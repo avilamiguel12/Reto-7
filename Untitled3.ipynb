{
  "nbformat": 4,
  "nbformat_minor": 0,
  "metadata": {
    "colab": {
      "provenance": []
    },
    "kernelspec": {
      "name": "python3",
      "display_name": "Python 3"
    },
    "language_info": {
      "name": "python"
    }
  },
  "cells": [
    {
      "cell_type": "markdown",
      "source": [
        "#Ejercicio 1"
      ],
      "metadata": {
        "id": "7XAkzJzVsbhm"
      }
    },
    {
      "cell_type": "code",
      "execution_count": 8,
      "metadata": {
        "colab": {
          "base_uri": "https://localhost:8080/"
        },
        "id": "1uZF-HEksJfI",
        "outputId": "b99a0d03-5e37-4d40-cf6b-7874fb8142e6"
      },
      "outputs": [
        {
          "output_type": "stream",
          "name": "stdout",
          "text": [
            "El cuadrado de 0 es 0\n",
            "El cuadrado de 1 es 1\n",
            "El cuadrado de 2 es 4\n",
            "El cuadrado de 3 es 9\n",
            "El cuadrado de 4 es 16\n",
            "El cuadrado de 5 es 25\n",
            "El cuadrado de 6 es 36\n",
            "El cuadrado de 7 es 49\n",
            "El cuadrado de 8 es 64\n",
            "El cuadrado de 9 es 81\n",
            "El cuadrado de 10 es 100\n",
            "El cuadrado de 11 es 121\n",
            "El cuadrado de 12 es 144\n",
            "El cuadrado de 13 es 169\n",
            "El cuadrado de 14 es 196\n",
            "El cuadrado de 15 es 225\n",
            "El cuadrado de 16 es 256\n",
            "El cuadrado de 17 es 289\n",
            "El cuadrado de 18 es 324\n",
            "El cuadrado de 19 es 361\n",
            "El cuadrado de 20 es 400\n",
            "El cuadrado de 21 es 441\n",
            "El cuadrado de 22 es 484\n",
            "El cuadrado de 23 es 529\n",
            "El cuadrado de 24 es 576\n",
            "El cuadrado de 25 es 625\n",
            "El cuadrado de 26 es 676\n",
            "El cuadrado de 27 es 729\n",
            "El cuadrado de 28 es 784\n",
            "El cuadrado de 29 es 841\n",
            "El cuadrado de 30 es 900\n",
            "El cuadrado de 31 es 961\n",
            "El cuadrado de 32 es 1024\n",
            "El cuadrado de 33 es 1089\n",
            "El cuadrado de 34 es 1156\n",
            "El cuadrado de 35 es 1225\n",
            "El cuadrado de 36 es 1296\n",
            "El cuadrado de 37 es 1369\n",
            "El cuadrado de 38 es 1444\n",
            "El cuadrado de 39 es 1521\n",
            "El cuadrado de 40 es 1600\n",
            "El cuadrado de 41 es 1681\n",
            "El cuadrado de 42 es 1764\n",
            "El cuadrado de 43 es 1849\n",
            "El cuadrado de 44 es 1936\n",
            "El cuadrado de 45 es 2025\n",
            "El cuadrado de 46 es 2116\n",
            "El cuadrado de 47 es 2209\n",
            "El cuadrado de 48 es 2304\n",
            "El cuadrado de 49 es 2401\n",
            "El cuadrado de 50 es 2500\n",
            "El cuadrado de 51 es 2601\n",
            "El cuadrado de 52 es 2704\n",
            "El cuadrado de 53 es 2809\n",
            "El cuadrado de 54 es 2916\n",
            "El cuadrado de 55 es 3025\n",
            "El cuadrado de 56 es 3136\n",
            "El cuadrado de 57 es 3249\n",
            "El cuadrado de 58 es 3364\n",
            "El cuadrado de 59 es 3481\n",
            "El cuadrado de 60 es 3600\n",
            "El cuadrado de 61 es 3721\n",
            "El cuadrado de 62 es 3844\n",
            "El cuadrado de 63 es 3969\n",
            "El cuadrado de 64 es 4096\n",
            "El cuadrado de 65 es 4225\n",
            "El cuadrado de 66 es 4356\n",
            "El cuadrado de 67 es 4489\n",
            "El cuadrado de 68 es 4624\n",
            "El cuadrado de 69 es 4761\n",
            "El cuadrado de 70 es 4900\n",
            "El cuadrado de 71 es 5041\n",
            "El cuadrado de 72 es 5184\n",
            "El cuadrado de 73 es 5329\n",
            "El cuadrado de 74 es 5476\n",
            "El cuadrado de 75 es 5625\n",
            "El cuadrado de 76 es 5776\n",
            "El cuadrado de 77 es 5929\n",
            "El cuadrado de 78 es 6084\n",
            "El cuadrado de 79 es 6241\n",
            "El cuadrado de 80 es 6400\n",
            "El cuadrado de 81 es 6561\n",
            "El cuadrado de 82 es 6724\n",
            "El cuadrado de 83 es 6889\n",
            "El cuadrado de 84 es 7056\n",
            "El cuadrado de 85 es 7225\n",
            "El cuadrado de 86 es 7396\n",
            "El cuadrado de 87 es 7569\n",
            "El cuadrado de 88 es 7744\n",
            "El cuadrado de 89 es 7921\n",
            "El cuadrado de 90 es 8100\n",
            "El cuadrado de 91 es 8281\n",
            "El cuadrado de 92 es 8464\n",
            "El cuadrado de 93 es 8649\n",
            "El cuadrado de 94 es 8836\n",
            "El cuadrado de 95 es 9025\n",
            "El cuadrado de 96 es 9216\n",
            "El cuadrado de 97 es 9409\n",
            "El cuadrado de 98 es 9604\n",
            "El cuadrado de 99 es 9801\n",
            "El cuadrado de 100 es 10000\n"
          ]
        }
      ],
      "source": [
        "#Imprimir un listado con los números del 1 al 100 cada uno con su respectivo cuadrado\n",
        "def main ():\n",
        "  for i in range (0,101): #Definimos el ciclo\n",
        "    print (\"El cuadrado de\", i ,\"es\", i**2) #imprimir los resultados del ciclo\n",
        "if __name__==\"__main__\":\n",
        "  main ()"
      ]
    },
    {
      "cell_type": "markdown",
      "source": [
        "#Ejercicio 2"
      ],
      "metadata": {
        "id": "N0WBjf_UuAKW"
      }
    },
    {
      "cell_type": "code",
      "source": [
        "# Imprimir los números impares desde 1 hasta 999\n",
        "print(\"Números impares desde 1 hasta 999\")\n",
        "a = 1 # Asigno el valor de 1 a la variable\n",
        "while a <= 999:#Inicio el bucle desde a hasta 999\n",
        "    print(a, end=\" \")\n",
        "    a=a+2 #Sigo el bucle de tal forma que siga con la secuencia de los numeros impares, es decir, sumo 2\n",
        "print (\"\\b\")\n",
        "# Imprimir los números pares desde 2 hasta 1000\n",
        "print(\"Números pares desde 2 hasta 1000\")\n",
        "b = 2 # Asigno el valor de 2 a la variable\n",
        "while b <= 1000:#Inicio el bucle desde b hasta 1000\n",
        "    print(b,end=\" \")\n",
        "    b=b+2 #Sigo el bucle de tal forma que siga con la secuencia de los numeros pares, es decir, sumo 2"
      ],
      "metadata": {
        "colab": {
          "base_uri": "https://localhost:8080/"
        },
        "id": "qwEJESHsuCnV",
        "outputId": "62ad29c8-62e0-480d-d450-dd5eea0c31d9"
      },
      "execution_count": 13,
      "outputs": [
        {
          "output_type": "stream",
          "name": "stdout",
          "text": [
            "Números impares desde 1 hasta 999\n",
            "1 3 5 7 9 11 13 15 17 19 21 23 25 27 29 31 33 35 37 39 41 43 45 47 49 51 53 55 57 59 61 63 65 67 69 71 73 75 77 79 81 83 85 87 89 91 93 95 97 99 101 103 105 107 109 111 113 115 117 119 121 123 125 127 129 131 133 135 137 139 141 143 145 147 149 151 153 155 157 159 161 163 165 167 169 171 173 175 177 179 181 183 185 187 189 191 193 195 197 199 201 203 205 207 209 211 213 215 217 219 221 223 225 227 229 231 233 235 237 239 241 243 245 247 249 251 253 255 257 259 261 263 265 267 269 271 273 275 277 279 281 283 285 287 289 291 293 295 297 299 301 303 305 307 309 311 313 315 317 319 321 323 325 327 329 331 333 335 337 339 341 343 345 347 349 351 353 355 357 359 361 363 365 367 369 371 373 375 377 379 381 383 385 387 389 391 393 395 397 399 401 403 405 407 409 411 413 415 417 419 421 423 425 427 429 431 433 435 437 439 441 443 445 447 449 451 453 455 457 459 461 463 465 467 469 471 473 475 477 479 481 483 485 487 489 491 493 495 497 499 501 503 505 507 509 511 513 515 517 519 521 523 525 527 529 531 533 535 537 539 541 543 545 547 549 551 553 555 557 559 561 563 565 567 569 571 573 575 577 579 581 583 585 587 589 591 593 595 597 599 601 603 605 607 609 611 613 615 617 619 621 623 625 627 629 631 633 635 637 639 641 643 645 647 649 651 653 655 657 659 661 663 665 667 669 671 673 675 677 679 681 683 685 687 689 691 693 695 697 699 701 703 705 707 709 711 713 715 717 719 721 723 725 727 729 731 733 735 737 739 741 743 745 747 749 751 753 755 757 759 761 763 765 767 769 771 773 775 777 779 781 783 785 787 789 791 793 795 797 799 801 803 805 807 809 811 813 815 817 819 821 823 825 827 829 831 833 835 837 839 841 843 845 847 849 851 853 855 857 859 861 863 865 867 869 871 873 875 877 879 881 883 885 887 889 891 893 895 897 899 901 903 905 907 909 911 913 915 917 919 921 923 925 927 929 931 933 935 937 939 941 943 945 947 949 951 953 955 957 959 961 963 965 967 969 971 973 975 977 979 981 983 985 987 989 991 993 995 997 999 \b\n",
            "Números pares desde 2 hasta 1000\n",
            "2 4 6 8 10 12 14 16 18 20 22 24 26 28 30 32 34 36 38 40 42 44 46 48 50 52 54 56 58 60 62 64 66 68 70 72 74 76 78 80 82 84 86 88 90 92 94 96 98 100 102 104 106 108 110 112 114 116 118 120 122 124 126 128 130 132 134 136 138 140 142 144 146 148 150 152 154 156 158 160 162 164 166 168 170 172 174 176 178 180 182 184 186 188 190 192 194 196 198 200 202 204 206 208 210 212 214 216 218 220 222 224 226 228 230 232 234 236 238 240 242 244 246 248 250 252 254 256 258 260 262 264 266 268 270 272 274 276 278 280 282 284 286 288 290 292 294 296 298 300 302 304 306 308 310 312 314 316 318 320 322 324 326 328 330 332 334 336 338 340 342 344 346 348 350 352 354 356 358 360 362 364 366 368 370 372 374 376 378 380 382 384 386 388 390 392 394 396 398 400 402 404 406 408 410 412 414 416 418 420 422 424 426 428 430 432 434 436 438 440 442 444 446 448 450 452 454 456 458 460 462 464 466 468 470 472 474 476 478 480 482 484 486 488 490 492 494 496 498 500 502 504 506 508 510 512 514 516 518 520 522 524 526 528 530 532 534 536 538 540 542 544 546 548 550 552 554 556 558 560 562 564 566 568 570 572 574 576 578 580 582 584 586 588 590 592 594 596 598 600 602 604 606 608 610 612 614 616 618 620 622 624 626 628 630 632 634 636 638 640 642 644 646 648 650 652 654 656 658 660 662 664 666 668 670 672 674 676 678 680 682 684 686 688 690 692 694 696 698 700 702 704 706 708 710 712 714 716 718 720 722 724 726 728 730 732 734 736 738 740 742 744 746 748 750 752 754 756 758 760 762 764 766 768 770 772 774 776 778 780 782 784 786 788 790 792 794 796 798 800 802 804 806 808 810 812 814 816 818 820 822 824 826 828 830 832 834 836 838 840 842 844 846 848 850 852 854 856 858 860 862 864 866 868 870 872 874 876 878 880 882 884 886 888 890 892 894 896 898 900 902 904 906 908 910 912 914 916 918 920 922 924 926 928 930 932 934 936 938 940 942 944 946 948 950 952 954 956 958 960 962 964 966 968 970 972 974 976 978 980 982 984 986 988 990 992 994 996 998 1000 "
          ]
        }
      ]
    },
    {
      "cell_type": "markdown",
      "source": [
        "#Ejercicio 3"
      ],
      "metadata": {
        "id": "WztOwjr5vdNh"
      }
    },
    {
      "cell_type": "code",
      "source": [
        "#Imprimir los números pares en forma descendente hasta 2 que son menores o iguales a un número natural n ≥ 2 dado\n",
        "n=int(input(\"Ingrese un número mayor o igual a 2: \"))#Entrada de datos\n",
        "if n>=2:#Condición para la lista\n",
        "  if n%2==0:\n",
        "    c=n\n",
        "  else:\n",
        "     c=n-1\n",
        "  while c>=2:#Inicio del bucle\n",
        "    print (c)\n",
        "    c=c-2#Resto 2 para que sigan apareciendo números pares"
      ],
      "metadata": {
        "colab": {
          "base_uri": "https://localhost:8080/"
        },
        "id": "7s6O4LgqvfOx",
        "outputId": "d28f5cf9-7d50-43e2-a4b4-58995908de1e"
      },
      "execution_count": 14,
      "outputs": [
        {
          "output_type": "stream",
          "name": "stdout",
          "text": [
            "Ingrese un número mayor o igual a 2: 23\n",
            "22\n",
            "20\n",
            "18\n",
            "16\n",
            "14\n",
            "12\n",
            "10\n",
            "8\n",
            "6\n",
            "4\n",
            "2\n"
          ]
        }
      ]
    },
    {
      "cell_type": "markdown",
      "source": [
        "#Ejercicio 4"
      ],
      "metadata": {
        "id": "3TfDsI_UvpwL"
      }
    },
    {
      "cell_type": "code",
      "source": [
        "def main():\n",
        "  n = int(input(\"Ingrese un numero: \")) #Definir el numero n\n",
        "\n",
        "  def factorial(n):\n",
        "    factoriales: int = 1 #se inicializa en 1\n",
        "\n",
        "    for i in range (1, n+1):\n",
        "      factoriales *= i #La variable \"factoriales\" se multiplica por i en cada iteracion\n",
        "    return factoriales\n",
        "  for a in range (1, n+1):\n",
        "      print(\"el factorial de\", a,\"es\", factorial (a)) #Imprime un bucle for nuevo, junto al resultado de la funcion factorial\n",
        "if __name__==\"__main__\":\n",
        "  main()\n",
        ""
      ],
      "metadata": {
        "colab": {
          "base_uri": "https://localhost:8080/"
        },
        "id": "v_Y9wsZcvsdl",
        "outputId": "24339e8d-8553-41cb-9137-13660fe4c89c"
      },
      "execution_count": 19,
      "outputs": [
        {
          "output_type": "stream",
          "name": "stdout",
          "text": [
            "Ingrese un numero: 8\n",
            "el factorial de 1 es 1\n",
            "el factorial de 2 es 2\n",
            "el factorial de 3 es 6\n",
            "el factorial de 4 es 24\n",
            "el factorial de 5 es 120\n",
            "el factorial de 6 es 720\n",
            "el factorial de 7 es 5040\n",
            "el factorial de 8 es 40320\n"
          ]
        }
      ]
    },
    {
      "cell_type": "markdown",
      "source": [
        "#Ejercicio 5"
      ],
      "metadata": {
        "id": "jp59dnQ7xry1"
      }
    },
    {
      "cell_type": "code",
      "source": [
        "def main():\n",
        "  n = int(input(\"Ingrese el valor del exponente: \"))\n",
        "  potencia = 1\n",
        "\n",
        "\n",
        "  for i in range (n):\n",
        "    potencia *= 2\n",
        "\n",
        "  print (\"El resultado de 2 a la\", n,\"es\", potencia)\n",
        "\n",
        "if __name__==\"__main__\":\n",
        "  main ()"
      ],
      "metadata": {
        "colab": {
          "base_uri": "https://localhost:8080/"
        },
        "id": "fUM5lrbrxuCV",
        "outputId": "7c3758d2-1bbb-4c5d-c653-f9670fc45baa"
      },
      "execution_count": 21,
      "outputs": [
        {
          "output_type": "stream",
          "name": "stdout",
          "text": [
            "Ingrese el exponente: 2\n",
            "El resultado de 2 a la 2 es 4\n"
          ]
        }
      ]
    },
    {
      "cell_type": "markdown",
      "source": [
        "#Ejercicio 6"
      ],
      "metadata": {
        "id": "1UFFUeqsyXBu"
      }
    },
    {
      "cell_type": "code",
      "source": [
        "def main():\n",
        "  x = int(input(\"Ingrese el valor de la base: \"))\n",
        "  n = int(input(\"Ingrese el valor del exponente: \"))\n",
        "  potencia = 1\n",
        "\n",
        "\n",
        "  for i in range (x):\n",
        "    potencia *= n\n",
        "  print (\"El resultado de\",x,\"a la\", n,\"es\", potencia)\n",
        "\n",
        "if __name__==\"__main__\":\n",
        "  main ()"
      ],
      "metadata": {
        "colab": {
          "base_uri": "https://localhost:8080/"
        },
        "id": "9xmGBPTuyZzM",
        "outputId": "9682ab05-d59e-44d1-9513-0b2a3a418cf7"
      },
      "execution_count": 24,
      "outputs": [
        {
          "output_type": "stream",
          "name": "stdout",
          "text": [
            "Ingrese el valor de la base: 2\n",
            "Ingrese el valor del exponente: 2\n",
            "El resultado de 2 a la 2 es 4\n"
          ]
        }
      ]
    },
    {
      "cell_type": "markdown",
      "source": [
        "#Ejercicio 7"
      ],
      "metadata": {
        "id": "J0pauqbKzv0_"
      }
    },
    {
      "cell_type": "code",
      "source": [
        "def main():\n",
        "  for i in range (1,10):\n",
        "    print (\"\\n\")\n",
        "    print (\"tabla del \", i)\n",
        "\n",
        "    for a in range (1,11):\n",
        "      print(i,\"x\", a,\"=\", i*a)\n",
        "\n",
        "if __name__==\"__main__\":\n",
        "  main()"
      ],
      "metadata": {
        "colab": {
          "base_uri": "https://localhost:8080/"
        },
        "id": "GOLe3_kjzyYv",
        "outputId": "b62f2417-e7c9-4fe9-d325-9c2234229e9a"
      },
      "execution_count": 26,
      "outputs": [
        {
          "output_type": "stream",
          "name": "stdout",
          "text": [
            "\n",
            "\n",
            "tabla del  1\n",
            "1 x 1 = 1\n",
            "1 x 2 = 2\n",
            "1 x 3 = 3\n",
            "1 x 4 = 4\n",
            "1 x 5 = 5\n",
            "1 x 6 = 6\n",
            "1 x 7 = 7\n",
            "1 x 8 = 8\n",
            "1 x 9 = 9\n",
            "1 x 10 = 10\n",
            "\n",
            "\n",
            "tabla del  2\n",
            "2 x 1 = 2\n",
            "2 x 2 = 4\n",
            "2 x 3 = 6\n",
            "2 x 4 = 8\n",
            "2 x 5 = 10\n",
            "2 x 6 = 12\n",
            "2 x 7 = 14\n",
            "2 x 8 = 16\n",
            "2 x 9 = 18\n",
            "2 x 10 = 20\n",
            "\n",
            "\n",
            "tabla del  3\n",
            "3 x 1 = 3\n",
            "3 x 2 = 6\n",
            "3 x 3 = 9\n",
            "3 x 4 = 12\n",
            "3 x 5 = 15\n",
            "3 x 6 = 18\n",
            "3 x 7 = 21\n",
            "3 x 8 = 24\n",
            "3 x 9 = 27\n",
            "3 x 10 = 30\n",
            "\n",
            "\n",
            "tabla del  4\n",
            "4 x 1 = 4\n",
            "4 x 2 = 8\n",
            "4 x 3 = 12\n",
            "4 x 4 = 16\n",
            "4 x 5 = 20\n",
            "4 x 6 = 24\n",
            "4 x 7 = 28\n",
            "4 x 8 = 32\n",
            "4 x 9 = 36\n",
            "4 x 10 = 40\n",
            "\n",
            "\n",
            "tabla del  5\n",
            "5 x 1 = 5\n",
            "5 x 2 = 10\n",
            "5 x 3 = 15\n",
            "5 x 4 = 20\n",
            "5 x 5 = 25\n",
            "5 x 6 = 30\n",
            "5 x 7 = 35\n",
            "5 x 8 = 40\n",
            "5 x 9 = 45\n",
            "5 x 10 = 50\n",
            "\n",
            "\n",
            "tabla del  6\n",
            "6 x 1 = 6\n",
            "6 x 2 = 12\n",
            "6 x 3 = 18\n",
            "6 x 4 = 24\n",
            "6 x 5 = 30\n",
            "6 x 6 = 36\n",
            "6 x 7 = 42\n",
            "6 x 8 = 48\n",
            "6 x 9 = 54\n",
            "6 x 10 = 60\n",
            "\n",
            "\n",
            "tabla del  7\n",
            "7 x 1 = 7\n",
            "7 x 2 = 14\n",
            "7 x 3 = 21\n",
            "7 x 4 = 28\n",
            "7 x 5 = 35\n",
            "7 x 6 = 42\n",
            "7 x 7 = 49\n",
            "7 x 8 = 56\n",
            "7 x 9 = 63\n",
            "7 x 10 = 70\n",
            "\n",
            "\n",
            "tabla del  8\n",
            "8 x 1 = 8\n",
            "8 x 2 = 16\n",
            "8 x 3 = 24\n",
            "8 x 4 = 32\n",
            "8 x 5 = 40\n",
            "8 x 6 = 48\n",
            "8 x 7 = 56\n",
            "8 x 8 = 64\n",
            "8 x 9 = 72\n",
            "8 x 10 = 80\n",
            "\n",
            "\n",
            "tabla del  9\n",
            "9 x 1 = 9\n",
            "9 x 2 = 18\n",
            "9 x 3 = 27\n",
            "9 x 4 = 36\n",
            "9 x 5 = 45\n",
            "9 x 6 = 54\n",
            "9 x 7 = 63\n",
            "9 x 8 = 72\n",
            "9 x 9 = 81\n",
            "9 x 10 = 90\n"
          ]
        }
      ]
    },
    {
      "cell_type": "markdown",
      "source": [
        "#Ejercicio 8"
      ],
      "metadata": {
        "id": "GARxxBSb0p9q"
      }
    },
    {
      "cell_type": "code",
      "source": [
        "import math\n",
        "def taylor (x, y):\n",
        "  total = 0\n",
        "  for i in range(y+1): #Definimos el rango\n",
        "    total += x**i / facto(i)\n",
        "  return total\n",
        "\n",
        "def facto(y): #encontrar el factorial\n",
        "  if y == 0:\n",
        "    return 1\n",
        "  factorial = 1\n",
        "  for i in range(1, y + 1):\n",
        "    factorial *= i\n",
        "  return factorial\n",
        "\n",
        "\n",
        "def main():\n",
        "  #solicitar valores\n",
        "  x = float (input(\"Ingrese x: \"))\n",
        "  y = int(input(\"Ingrese el numero de terminos: \"))\n",
        "\n",
        "    #Ponemos el condicional\n",
        "  if x < 0:\n",
        "    print(\"NUmero no valido\")\n",
        "    return\n",
        "\n",
        "  aproximacion = taylor(x,y)\n",
        "  valor_real = math.exp(x)\n",
        "  difrencia = abs(valor_real - aproximacion)\n",
        "\n",
        "  print(\"El valor real de e a la\", x,\"es\", valor_real)\n",
        "  print(\"El valor aproximado de e a la\", x,\"usando\", y,\"terminos\", aproximacion)\n",
        "  print(\"La diferencia absoluta es\", difrencia)\n",
        "\n",
        "\n",
        "if __name__==\"__main__\":\n",
        "  main()\n"
      ],
      "metadata": {
        "colab": {
          "base_uri": "https://localhost:8080/"
        },
        "id": "lqe5mgfG0ryV",
        "outputId": "32b33f9a-1f7f-401a-b3a0-b893eff5435f"
      },
      "execution_count": 30,
      "outputs": [
        {
          "output_type": "stream",
          "name": "stdout",
          "text": [
            "Ingrese x: 1\n",
            "Ingrese el numero de terminos: 4\n",
            " El valor real de e a la 1.0 es 2.718281828459045\n",
            "El valor aproximado de e a la 1.0 usando 4 terminos 2.708333333333333\n",
            "La diferencia absoluta es 0.009948495125712054\n"
          ]
        }
      ]
    },
    {
      "cell_type": "markdown",
      "source": [
        "#Ejercicio 9"
      ],
      "metadata": {
        "id": "IS2NU85A27l7"
      }
    },
    {
      "cell_type": "code",
      "source": [
        "import math\n",
        "\n",
        "# Calculamos el factorial de un número\n",
        "def factorial(n):\n",
        "    if n == 0:\n",
        "        return 1\n",
        "    fact = 1\n",
        "    for i in range(1, n + 1):\n",
        "        fact *= i\n",
        "    return fact\n",
        "\n",
        "# Calculamos la función seno usando la serie de Maclaurin\n",
        "def maclaurin_sin(x, n):\n",
        "    result = 0\n",
        "    for i in range(n + 1):\n",
        "        term = (-1) ** i * x ** (2 * i + 1) / factorial(2 * i + 1)\n",
        "        result += term\n",
        "    return result\n",
        "\n",
        "def main():\n",
        "    # Leemos los valores de x y n\n",
        "    x = float(input(\"Ingrese el valor de x: \"))\n",
        "    n = int(input(\"Ingrese el número de términos n: \"))\n",
        "\n",
        "    if n < 0:\n",
        "        print(\"El número de términos n debe ser un entero no negativo.\")\n",
        "        return\n",
        "\n",
        "    # Calculamos la aproximación y el valor real\n",
        "    approx = maclaurin_sin(x, n)\n",
        "    real = math.sin(x)\n",
        "    difference = abs(real - approx)\n",
        "\n",
        "    # Mostramos los resultados\n",
        "    print(f\"Valor aproximado de sin({x}) usando {n} términos: {approx}\")\n",
        "    print(f\"Valor real de sin({x}): {real}\")\n",
        "    print(f\"Diferencia absoluta: {difference}\")\n",
        "\n",
        "# Ejecutamos la función principal\n",
        "if __name__ == \"__main__\":\n",
        "    main()"
      ],
      "metadata": {
        "colab": {
          "base_uri": "https://localhost:8080/"
        },
        "id": "0yBIc_wU29be",
        "outputId": "c5fc9015-207d-4c9b-f093-5d711ad5e277"
      },
      "execution_count": 31,
      "outputs": [
        {
          "output_type": "stream",
          "name": "stdout",
          "text": [
            "Ingrese el valor de x: 3.1415926536\n",
            "Ingrese el número de términos n: 4\n",
            "Valor aproximado de sin(3.1415926536) usando 4 términos: 0.006925270697542493\n",
            "Valor real de sin(3.1415926536): -1.0206823934513925e-11\n",
            "Diferencia absoluta: 0.006925270707749317\n"
          ]
        }
      ]
    }
  ]
}